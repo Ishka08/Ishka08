{
  "nbformat": 4,
  "nbformat_minor": 0,
  "metadata": {
    "colab": {
      "name": "testing_my_math.divide().ipynb",
      "provenance": [],
      "include_colab_link": true
    },
    "kernelspec": {
      "name": "python3",
      "display_name": "Python 3"
    },
    "language_info": {
      "name": "python"
    }
  },
  "cells": [
    {
      "cell_type": "markdown",
      "metadata": {
        "id": "view-in-github",
        "colab_type": "text"
      },
      "source": [
        "<a href=\"https://colab.research.google.com/github/Ishka08/mochiiii/blob/main/testing_my_math_divide().ipynb\" target=\"_parent\"><img src=\"https://colab.research.google.com/assets/colab-badge.svg\" alt=\"Open In Colab\"/></a>"
      ]
    },
    {
      "cell_type": "markdown",
      "source": [
        "## Testing  my_math.divide()\n",
        "\n",
        "What is your preferred testing strategy? Do you like using the assert statement or prefer doctest?  \n",
        "\n",
        "Using your preferred testing strategy, develop a test table and test the following funciton.  Where required update the function so all test behave as expected.\n",
        "\n",
        "\n",
        "## Function to test"
      ],
      "metadata": {
        "id": "LIfoDVzKX7uK"
      }
    },
    {
      "cell_type": "code",
      "source": [
        "def divide(x, y):\n",
        "    '''Divide first by second number'''\n",
        "    if(type(x) == int or type(x) == float) and (type(y) == int or type(y) == float):\n",
        "     return x / y\n",
        "    return 'Not a number'\n"
      ],
      "metadata": {
        "id": "YH9gDoOYvKwg"
      },
      "execution_count": 1,
      "outputs": []
    },
    {
      "cell_type": "markdown",
      "source": [
        "## Test Table\n",
        "\n",
        "List you test cases here."
      ],
      "metadata": {
        "id": "JYSZ-53nLF6n"
      }
    },
    {
      "cell_type": "code",
      "source": [
        "assert divide(2,1) == 2"
      ],
      "metadata": {
        "id": "DMTITEmbLE_Z"
      },
      "execution_count": 3,
      "outputs": []
    },
    {
      "cell_type": "code",
      "source": [
        "assert divide(2.1,1) == 2.1"
      ],
      "metadata": {
        "id": "gwL4V8b_q6LE"
      },
      "execution_count": 4,
      "outputs": []
    },
    {
      "cell_type": "code",
      "source": [
        "assert divide(3.1,1) == 3.1"
      ],
      "metadata": {
        "id": "shSJC9LLrEBw"
      },
      "execution_count": 5,
      "outputs": []
    }
  ]
}