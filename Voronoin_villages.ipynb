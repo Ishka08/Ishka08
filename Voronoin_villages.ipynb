{
  "nbformat": 4,
  "nbformat_minor": 0,
  "metadata": {
    "colab": {
      "name": "Voronoin villages",
      "provenance": [],
      "collapsed_sections": [],
      "authorship_tag": "ABX9TyMubUbvBpdeuzymL0KQM1sQ",
      "include_colab_link": true
    },
    "kernelspec": {
      "name": "python3",
      "display_name": "Python 3"
    },
    "language_info": {
      "name": "python"
    }
  },
  "cells": [
    {
      "cell_type": "markdown",
      "metadata": {
        "id": "view-in-github",
        "colab_type": "text"
      },
      "source": [
        "<a href=\"https://colab.research.google.com/github/Ishka08/mochiiii/blob/main/Voronoin_villages.ipynb\" target=\"_parent\"><img src=\"https://colab.research.google.com/assets/colab-badge.svg\" alt=\"Open In Colab\"/></a>"
      ]
    },
    {
      "cell_type": "code",
      "execution_count": 1,
      "metadata": {
        "id": "lE-0Lg77H73z",
        "colab": {
          "base_uri": "https://localhost:8080/"
        },
        "outputId": "04914ee6-bb35-4840-dbae-3ed2d78a414c"
      },
      "outputs": [
        {
          "output_type": "stream",
          "name": "stdout",
          "text": [
            "5\n",
            "16\n",
            "0\n",
            "10\n",
            "4\n",
            "15\n",
            "3.0\n"
          ]
        }
      ],
      "source": [
        "N = int(input())\n",
        "\n",
        "village = list()\n",
        "for i in range(N):\n",
        "    village.append(float(input()))\n",
        "\n",
        "\n",
        "distance = list()\n",
        "\n",
        "\n",
        "village.sort()\n",
        "\n",
        "\n",
        "for i in range(1, N - 1):\n",
        "    distance.append( (village[i+1] - village[i]) / 2 + (village[i] - village[i - 1]) / 2 )\n",
        "\n",
        "\n",
        "distance.sort()\n",
        "\n",
        "print(distance[0])\n"
      ]
    }
  ]
}