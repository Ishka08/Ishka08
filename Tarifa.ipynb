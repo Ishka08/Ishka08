{
  "nbformat": 4,
  "nbformat_minor": 0,
  "metadata": {
    "colab": {
      "name": "Tarifa.ipynb",
      "provenance": [],
      "collapsed_sections": [],
      "authorship_tag": "ABX9TyOAqeqpkb9h+DXK57Lzfwqr",
      "include_colab_link": true
    },
    "kernelspec": {
      "name": "python3",
      "display_name": "Python 3"
    },
    "language_info": {
      "name": "python"
    }
  },
  "cells": [
    {
      "cell_type": "markdown",
      "metadata": {
        "id": "view-in-github",
        "colab_type": "text"
      },
      "source": [
        "<a href=\"https://colab.research.google.com/github/Ishka08/mochiiii/blob/main/Tarifa.ipynb\" target=\"_parent\"><img src=\"https://colab.research.google.com/assets/colab-badge.svg\" alt=\"Open In Colab\"/></a>"
      ]
    },
    {
      "cell_type": "code",
      "execution_count": 8,
      "metadata": {
        "colab": {
          "base_uri": "https://localhost:8080/"
        },
        "id": "sA4p-M3VUA7P",
        "outputId": "49cf1972-445d-4058-a338-3f65b95e8be6"
      },
      "outputs": [
        {
          "output_type": "stream",
          "name": "stdout",
          "text": [
            "please monthly megab: 10\n",
            "please input number of months: 3\n",
            "Input amount of megab used: 4\n",
            "Input amount of megab used: 6\n",
            "Input amount of megab used: 2\n",
            "Amount available to use:  28\n"
          ]
        }
      ],
      "source": [
        "x = int(input(\"please monthly megab: \"))\n",
        "n = int(input(\"please input number of months: \"))\n",
        "\n",
        "total= x*(n+1)\n",
        "\n",
        "for i in range(n):\n",
        "#calculate amount used\n",
        "  amount_used = int(input(\"Input amount of megab used: \"))\n",
        "  total = total - amount_used\n",
        "print(\"Amount available to use: \", total)"
      ]
    },
    {
      "cell_type": "code",
      "source": [
        "x = int(input(\"please monthly megab: \"))\n",
        "n = int(input(\"please input number of months: \"))\n",
        "\n",
        "total=  x*(n+1)\n",
        "\n",
        "while x !=0 and n !=0:\n",
        "  amount_used = int(input(\"Input amount of megab used: \"))\n",
        "  total = total - amount_used\n",
        "  n = n-1\n",
        "print(\"Amount available to use: \", total)\n",
        "\n"
      ],
      "metadata": {
        "colab": {
          "base_uri": "https://localhost:8080/"
        },
        "id": "ARhpbuK9XtRT",
        "outputId": "da7dfbe6-7490-4599-e41d-4b55ef3b1935"
      },
      "execution_count": 20,
      "outputs": [
        {
          "output_type": "stream",
          "name": "stdout",
          "text": [
            "please monthly megab: 10\n",
            "please input number of months: 3\n",
            "Input amount of megab used: 4\n",
            "Input amount of megab used: 6\n",
            "Input amount of megab used: 2\n",
            "Amount available to use:  28\n"
          ]
        }
      ]
    }
  ]
}