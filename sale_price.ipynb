{
  "nbformat": 4,
  "nbformat_minor": 0,
  "metadata": {
    "colab": {
      "name": "sale_price.ipynb",
      "provenance": [],
      "include_colab_link": true
    },
    "kernelspec": {
      "name": "python3",
      "display_name": "Python 3"
    },
    "language_info": {
      "name": "python"
    }
  },
  "cells": [
    {
      "cell_type": "markdown",
      "metadata": {
        "id": "view-in-github",
        "colab_type": "text"
      },
      "source": [
        "<a href=\"https://colab.research.google.com/github/Ishka08/mochiiii/blob/main/sale_price.ipynb\" target=\"_parent\"><img src=\"https://colab.research.google.com/assets/colab-badge.svg\" alt=\"Open In Colab\"/></a>"
      ]
    },
    {
      "cell_type": "markdown",
      "metadata": {
        "id": "cgTeiXOtSPjH"
      },
      "source": [
        "# Sales Price\n",
        "\n",
        "A local department store needs to develop a program that will computer the total price (including goods and services tax) of the item on sale when given an item's original price and discount percentage.\n",
        "\n",
        "## Tasks\n",
        "* Save to Github\n",
        "* Design Algorithm\n",
        "* Write and test the program in Python"
      ]
    },
    {
      "cell_type": "code",
      "source": [
        "def calculate_totalprice(OriginalPrice, DiscountPrice, TaxAmount):\n",
        "  newprice = OriginalPrice - (OriginalPrice * DiscountPrice)\n",
        "  taxamount = TaxAmount * newprice\n",
        "  totalprice = newprice + taxamount\n",
        "  print(OriginalPrice)\n",
        "  print(DiscountPrice)\n",
        "  print(TaxAmount)\n",
        "  print(totalprice)\n",
        "\n",
        "calculate_totalprice(40, 0.3, 0.07)"
      ],
      "metadata": {
        "id": "8mrcuufFUVIF",
        "outputId": "caeab572-f8a6-466d-f648-3a1e5651eff7",
        "colab": {
          "base_uri": "https://localhost:8080/"
        }
      },
      "execution_count": null,
      "outputs": [
        {
          "output_type": "stream",
          "name": "stdout",
          "text": [
            "40\n",
            "0.3\n",
            "0.07\n",
            "29.96\n"
          ]
        }
      ]
    },
    {
      "cell_type": "code",
      "source": [
        "def calculate_totalprice():\n",
        "  originalprice= int(input(\"enter sales value: \"))\n",
        "  Discount= float(input(\"enter discout rate: \"))\n",
        "  Tax= int(input (\"enter tax rate: \"))\n",
        "\n",
        "  discountedprice = originalprice - (originalprice * float(Discount/100))\n",
        "  TaxAmount = float(Tax/100) * discountedprice\n",
        "  TotalPrice = (discountedprice + TaxAmount)\n",
        "  \n",
        "  print (\"Total Price :\" , originalprice)\n",
        "  print (\"Dicount:\" , discountedprice)\n",
        "  print (\"Tax:\" , Tax)\n",
        "  print (\"TotalPrice:\" , TotalPrice)\n",
        "\n",
        "calculate_totalprice()"
      ],
      "metadata": {
        "id": "OQDHvouOaa8R",
        "outputId": "5857fcc3-0906-4ca9-cab2-85b0c73ab5e4",
        "colab": {
          "base_uri": "https://localhost:8080/"
        }
      },
      "execution_count": 21,
      "outputs": [
        {
          "output_type": "stream",
          "name": "stdout",
          "text": [
            "enter sales value: 40\n",
            "enter discout rate: 30\n",
            "enter tax rate: 7\n",
            "Total Price : 40\n",
            "Dicount: 28.0\n",
            "Tax: 7\n",
            "TotalPrice: 29.96\n"
          ]
        }
      ]
    }
  ]
}